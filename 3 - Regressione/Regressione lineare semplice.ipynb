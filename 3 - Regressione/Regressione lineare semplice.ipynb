{
 "cells": [
  {
   "cell_type": "markdown",
   "metadata": {
    "colab_type": "text",
    "id": "78BB7dePF94-"
   },
   "source": [
    "# Regressione lineare semplice con scikit-learn\n",
    "In questo Notebook eseguiremo la nostra prima regressione lineare semplice utilizzando il Boston Housing Dataset per predirre il valore di abitazioni nella zona di Boston.<br>\n",
    "Cominciamo importando le librerie necessarie."
   ]
  },
  {
   "cell_type": "code",
   "execution_count": 1,
   "metadata": {
    "colab": {},
    "colab_type": "code",
    "id": "gUh0dxnCF95A"
   },
   "outputs": [],
   "source": [
    "import pandas as pd\n",
    "import numpy as np"
   ]
  },
  {
   "cell_type": "markdown",
   "metadata": {
    "colab_type": "text",
    "id": "_ZYR755wF95E"
   },
   "source": [
    "Importiamo il dataset direttamente dalla repository ufficiale dell'UCI all'interno di un dataset.<br>\n",
    "Trattandosi di una regressione lineare semplice utilizzeremo soltanto la proprietà collegata al numero di stanze (RM - colonna 5) per predirre il valore medio (MEDV - colonna 13). Le colonne del dataset sono divise da un numero variabile di spazi, in questi casi dobbiamo usare come separatore <span style=\"font-family: Monaco\">\\s+</span>."
   ]
  },
  {
   "cell_type": "code",
   "execution_count": 2,
   "metadata": {
    "colab": {},
    "colab_type": "code",
    "id": "TGDEUv5tF95F",
    "outputId": "fa7a45bd-f978-4408-c432-b0c604717e15"
   },
   "outputs": [
    {
     "data": {
      "text/plain": "      RM  MEDV\n0  6.575  24.0\n1  6.421  21.6\n2  7.185  34.7\n3  6.998  33.4\n4  7.147  36.2",
      "text/html": "<div>\n<style scoped>\n    .dataframe tbody tr th:only-of-type {\n        vertical-align: middle;\n    }\n\n    .dataframe tbody tr th {\n        vertical-align: top;\n    }\n\n    .dataframe thead th {\n        text-align: right;\n    }\n</style>\n<table border=\"1\" class=\"dataframe\">\n  <thead>\n    <tr style=\"text-align: right;\">\n      <th></th>\n      <th>RM</th>\n      <th>MEDV</th>\n    </tr>\n  </thead>\n  <tbody>\n    <tr>\n      <th>0</th>\n      <td>6.575</td>\n      <td>24.0</td>\n    </tr>\n    <tr>\n      <th>1</th>\n      <td>6.421</td>\n      <td>21.6</td>\n    </tr>\n    <tr>\n      <th>2</th>\n      <td>7.185</td>\n      <td>34.7</td>\n    </tr>\n    <tr>\n      <th>3</th>\n      <td>6.998</td>\n      <td>33.4</td>\n    </tr>\n    <tr>\n      <th>4</th>\n      <td>7.147</td>\n      <td>36.2</td>\n    </tr>\n  </tbody>\n</table>\n</div>"
     },
     "execution_count": 2,
     "metadata": {},
     "output_type": "execute_result"
    }
   ],
   "source": [
    "boston = pd.read_csv(\"https://archive.ics.uci.edu/ml/machine-learning-databases/housing/housing.data\", sep='\\s+',\n",
    "                     usecols=[5,13], names=[\"RM\", \"MEDV\"])\n",
    "boston.head()"
   ]
  },
  {
   "cell_type": "markdown",
   "metadata": {
    "colab_type": "text",
    "id": "1VpUqR21F95N"
   },
   "source": [
    "Creiamo i nostri array numpy per le features X e per il target Y, dopodichè usiamo la funzione <span style=\"font-family: Monaco\">train_test_split</span> di scikit-learn per creare il *train set* e il *test set*."
   ]
  },
  {
   "cell_type": "code",
   "execution_count": 4,
   "metadata": {
    "colab": {},
    "colab_type": "code",
    "id": "vt9iK7IbF95O"
   },
   "outputs": [],
   "source": [
    "X = boston.drop(\"MEDV\", axis=1).values\n",
    "Y = boston[\"MEDV\"].values\n",
    "\n",
    "from sklearn.model_selection import train_test_split\n",
    "\n",
    "X_train, X_test, Y_train, Y_test = train_test_split(X,Y, test_size=0.3)"
   ]
  },
  {
   "cell_type": "markdown",
   "metadata": {
    "colab_type": "text",
    "id": "juihrALeF95R"
   },
   "source": [
    "Adesso che abbiamo i nostri set di dati sotto forma di array numpy possiamo implementare la regressione lineare sul *train set* ed effettuare la predizione sul *test set*"
   ]
  },
  {
   "cell_type": "code",
   "execution_count": 5,
   "metadata": {
    "colab": {},
    "colab_type": "code",
    "id": "2dmoueXBF95S"
   },
   "outputs": [],
   "source": [
    "from sklearn.linear_model import LinearRegression\n",
    "\n",
    "ll = LinearRegression()\n",
    "ll.fit(X_train, Y_train)\n",
    "Y_pred = ll.predict(X_test)"
   ]
  },
  {
   "cell_type": "markdown",
   "metadata": {
    "colab_type": "text",
    "id": "La-v58aKF95V"
   },
   "source": [
    "Utilizziamo la predizione del modello per calcolare l'errore utilizzando l'errore quadratico medio (MSE - Mean Squared Error).<br>\n",
    "Esso consiste nella media della somma degli errori al quadrato.\n",
    "$$MSE = \\frac{1}{N}\\sum_{i=1}^{N}(Y_i-\\hat{Y}_i)^2$$\n",
    "dove $\\hat{Y}$ corrisponde alla predizione del modello.<br>\n",
    "**NOTA BENE** L'MSE corrisponde alla somma dei quadrati residui (RSS - Residual Sum of Squares) di cui viene calcolato il valore medio."
   ]
  },
  {
   "cell_type": "code",
   "execution_count": 6,
   "metadata": {
    "colab": {},
    "colab_type": "code",
    "id": "x0sinw_eF95W",
    "outputId": "6f240e87-fc88-4c41-d689-04be332448dd"
   },
   "outputs": [
    {
     "data": {
      "text/plain": "46.51897859592819"
     },
     "execution_count": 6,
     "metadata": {},
     "output_type": "execute_result"
    }
   ],
   "source": [
    "from sklearn.metrics import mean_squared_error\n",
    "\n",
    "mean_squared_error(Y_test, Y_pred)"
   ]
  },
  {
   "cell_type": "markdown",
   "metadata": {
    "colab_type": "text",
    "id": "bW9XWWopF95b"
   },
   "source": [
    "Introduciamo un ulteriore metrica per valutare il nostro modello: **il coefficente di determinazione (R^2)**.<br>\n",
    "$$ R^2 = 1-\\frac{RSS}{SST}$$\n",
    "dove $RSS$ è la somma dei quadrati residui:\n",
    "$$RSS = \\sum_{i=1}^{N}(Y_i-\\hat{Y}_i)^2$$\n",
    "ed SST è la somma dei quadrati totali:\n",
    "$$SST = \\sum_{i=1}^{N}(Y_i-Y_{mean})^2$$\n",
    "<br>\n",
    "in pratica R^2 è una versione standardizzata del MSE che torna un punteggio compreso tra 0 e 1 per il train set, mentre per il test set può assumere anche valori negativi.\n",
    "**NOTA BENE** R^2 non è una funzione di costo, ma di punteggio, un valore di 1 vuol dire che la predizione del modello è sempre corretta ( cosa improbabile in casi reali ). Quindi tanto più vicino ad 1 è l'R2 tanto migliore è il modello.\n",
    "    \n",
    "* **R2_score < 0.3** il modello è inutile.\n",
    "* **0.3 < R2_score < 0.5** il modello è scarso.     \n",
    "* **0.5 < R2_score < 0.7** il modello è discreto.\n",
    "* **0.7 < R2_score < 0.9** il modello è buono.\n",
    "* **0.9 < R2_score < 1** il modello è ottimo.\n",
    "* **R2_score = 1** molto probabilmente c'è un errore nel modello."
   ]
  },
  {
   "cell_type": "code",
   "execution_count": 7,
   "metadata": {
    "colab": {},
    "colab_type": "code",
    "id": "AJknNtYNF95c",
    "outputId": "580ee284-ce02-434c-b274-e52f3b5a26ad"
   },
   "outputs": [
    {
     "data": {
      "text/plain": "0.49673808180577883"
     },
     "execution_count": 7,
     "metadata": {},
     "output_type": "execute_result"
    }
   ],
   "source": [
    "from sklearn.metrics import r2_score\n",
    "\n",
    "r2_score(Y_test, Y_pred)"
   ]
  },
  {
   "cell_type": "markdown",
   "metadata": {
    "colab_type": "text",
    "id": "Ks4JfFY3F95f"
   },
   "source": [
    "Il punteggio non è così male per un modello così semplice, proviamo a visualizzare i coefficenti (bias e peso) che il nostro modello ha imparato disegnando la retta da questi rappresentata in un grafico in 2 dimensioni."
   ]
  },
  {
   "cell_type": "code",
   "execution_count": 8,
   "metadata": {
    "colab": {},
    "colab_type": "code",
    "id": "hpSKKeSAF95g",
    "outputId": "81a9be1b-4111-430f-ee8a-144e4594d582"
   },
   "outputs": [
    {
     "name": "stdout",
     "output_type": "stream",
     "text": [
      "Peso di RM: 9.0076045747527\n",
      "Bias: -33.9877931623425\n"
     ]
    },
    {
     "data": {
      "text/plain": "[<matplotlib.lines.Line2D at 0x15f88ca19d0>]"
     },
     "execution_count": 8,
     "metadata": {},
     "output_type": "execute_result"
    },
    {
     "data": {
      "text/plain": "<Figure size 432x288 with 1 Axes>",
      "image/png": "[encoded data removed]"
     },
     "metadata": {
      "needs_background": "light"
     },
     "output_type": "display_data"
    }
   ],
   "source": [
    "import matplotlib.pyplot as plt\n",
    "%matplotlib inline\n",
    "\n",
    "print(\"Peso di RM: \"+ str(ll.coef_[0]))\n",
    "print(\"Bias: \"+str(ll.intercept_))\n",
    "\n",
    "\n",
    "plt.scatter(X_train, Y_train, c=\"green\",  edgecolor='white', label=\"Train set\")\n",
    "plt.scatter(X_test, Y_test, c=\"blue\",  edgecolor='white', label=\"Test set\")\n",
    "\n",
    "plt.xlabel('Numero medio di stanze [RM]')\n",
    "plt.ylabel('Valore in $1000 [MEDV]')\n",
    "\n",
    "plt.legend(loc='upper left')\n",
    "\n",
    "plt.plot(X_test, Y_pred, color='red', linewidth=3)"
   ]
  },
  {
   "cell_type": "markdown",
   "metadata": {
    "colab_type": "text",
    "id": "545vc32YF95j"
   },
   "source": [
    "La retta approssima i dati abbastanza bene, l'errore alto è dato in gran parte dagli outliers, ovvero dai valori che si distaccano di molto dagli altri.<br>\n",
    "Per ottenere un modello più preciso, e quindi ridurre l'errore, dobbiamo aggiungere ulteriori features significative."
   ]
  }
 ],
 "metadata": {
  "colab": {
   "name": "Regressione lineare semplice.ipynb",
   "provenance": [],
   "version": "0.3.2"
  },
  "kernelspec": {
   "display_name": "Python 3",
   "language": "python",
   "name": "python3"
  },
  "language_info": {
   "codemirror_mode": {
    "name": "ipython",
    "version": 3
   },
   "file_extension": ".py",
   "mimetype": "text/x-python",
   "name": "python",
   "nbconvert_exporter": "python",
   "pygments_lexer": "ipython3",
   "version": "3.8.5"
  }
 },
 "nbformat": 4,
 "nbformat_minor": 4
}